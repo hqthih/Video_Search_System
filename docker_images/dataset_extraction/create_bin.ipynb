{
 "cells": [
  {
   "cell_type": "code",
   "execution_count": null,
   "id": "30a6dd30",
   "metadata": {
    "execution": {
     "iopub.execute_input": "2023-10-03T14:49:22.935322Z",
     "iopub.status.busy": "2023-10-03T14:49:22.934984Z",
     "iopub.status.idle": "2023-10-03T14:49:34.993559Z",
     "shell.execute_reply": "2023-10-03T14:49:34.992470Z"
    },
    "papermill": {
     "duration": 12.065452,
     "end_time": "2023-10-03T14:49:34.996062",
     "exception": false,
     "start_time": "2023-10-03T14:49:22.930610",
     "status": "completed"
    },
    "tags": []
   },
   "outputs": [],
   "source": [
    "!pip install faiss-cpu"
   ]
  },
  {
   "cell_type": "code",
   "execution_count": 1,
   "id": "161f31e1",
   "metadata": {
    "execution": {
     "iopub.execute_input": "2023-10-03T14:49:35.003792Z",
     "iopub.status.busy": "2023-10-03T14:49:35.003392Z",
     "iopub.status.idle": "2023-10-03T14:49:35.041927Z",
     "shell.execute_reply": "2023-10-03T14:49:35.040814Z"
    },
    "papermill": {
     "duration": 0.045215,
     "end_time": "2023-10-03T14:49:35.044295",
     "exception": false,
     "start_time": "2023-10-03T14:49:34.999080",
     "status": "completed"
    },
    "tags": []
   },
   "outputs": [],
   "source": [
    "import os\n",
    "import glob\n",
    "import faiss\n",
    "import numpy as np\n",
    "from tqdm import tqdm"
   ]
  },
  {
   "cell_type": "markdown",
   "metadata": {},
   "source": [
    "# Clip (open_ai)"
   ]
  },
  {
   "cell_type": "code",
   "execution_count": null,
   "id": "5395c94b",
   "metadata": {
    "collapsed": true,
    "execution": {
     "iopub.execute_input": "2023-10-03T14:49:35.051230Z",
     "iopub.status.busy": "2023-10-03T14:49:35.050853Z",
     "iopub.status.idle": "2023-10-03T14:50:19.479306Z",
     "shell.execute_reply": "2023-10-03T14:50:19.478149Z"
    },
    "jupyter": {
     "outputs_hidden": true
    },
    "papermill": {
     "duration": 44.434072,
     "end_time": "2023-10-03T14:50:19.481202",
     "exception": false,
     "start_time": "2023-10-03T14:49:35.047130",
     "status": "completed"
    },
    "tags": []
   },
   "outputs": [],
   "source": [
    "feature_shape = 512\n",
    "features_dir = './CLIP_features'\n",
    "\n",
    "index = faiss.IndexFlatIP(feature_shape)\n",
    "\n",
    "for data_part in tqdm(sorted(os.listdir(features_dir))):\n",
    "    for feature_path in tqdm(sorted(glob.glob(os.path.join(features_dir, data_part) +'/*.npy'))):\n",
    "        feats = np.load(feature_path)\n",
    "        for feat in feats:\n",
    "            feat = feat.astype(np.float32).reshape(1,-1)\n",
    "            index.add(feat)\n",
    "\n",
    "faiss.write_index(index, f\"faiss_clip.bin\")"
   ]
  },
  {
   "cell_type": "markdown",
   "metadata": {},
   "source": [
    "# Clip (open_clip)"
   ]
  },
  {
   "cell_type": "code",
   "execution_count": 5,
   "id": "474993a2",
   "metadata": {
    "execution": {
     "iopub.execute_input": "2023-10-03T14:50:19.753207Z",
     "iopub.status.busy": "2023-10-03T14:50:19.752812Z",
     "iopub.status.idle": "2023-10-03T14:50:23.454736Z",
     "shell.execute_reply": "2023-10-03T14:50:23.453745Z"
    },
    "papermill": {
     "duration": 3.772456,
     "end_time": "2023-10-03T14:50:23.458220",
     "exception": false,
     "start_time": "2023-10-03T14:50:19.685764",
     "status": "completed"
    },
    "tags": []
   },
   "outputs": [],
   "source": [
    "feature_shape = 768\n",
    "features_dir = './CLIPv2_features'\n",
    "\n",
    "index = faiss.IndexFlatIP(feature_shape)\n",
    "\n",
    "for data_part in tqdm(sorted(os.listdir(features_dir))):\n",
    "    for feature_path in tqdm(sorted(glob.glob(os.path.join(features_dir, data_part) +'/*.npy'))):\n",
    "        feats = np.load(feature_path)\n",
    "        for feat in feats:\n",
    "            feat = feat.astype(np.float32).reshape(1,-1)\n",
    "            index.add(feat)\n",
    "\n",
    "faiss.write_index(index, f\"faiss_clipv2_cosine.bin\")"
   ]
  },
  {
   "cell_type": "code",
   "execution_count": null,
   "id": "3d9503d9",
   "metadata": {
    "papermill": {
     "duration": 0.075092,
     "end_time": "2023-10-03T14:50:23.631254",
     "exception": false,
     "start_time": "2023-10-03T14:50:23.556162",
     "status": "completed"
    },
    "tags": []
   },
   "outputs": [],
   "source": [
    "from pymilvus import connections, FieldSchema, CollectionSchema, DataType, Collection\n",
    "\n",
    "# Connect to Milvus\n",
    "connections.connect(\"default\", host=\"localhost\", port=\"19530\")\n",
    "\n",
    "# Define the schema for the collection\n",
    "fields = [\n",
    "    # FieldSchema(name=\"id\", dtype=DataType.INT64, is_primary=True, auto_id=True),\n",
    "    FieldSchema(name=\"embedding\", dtype=DataType.FLOAT_VECTOR, dim=feature_shape)\n",
    "]\n",
    "schema = CollectionSchema(fields, \"CLIPv2 feature vectors\")\n",
    "\n",
    "# Create the collection\n",
    "collection = Collection(\"clip_v2_collection\", schema)\n",
    "\n",
    "# Load the data and insert into Milvus\n",
    "for data_part in tqdm(sorted(os.listdir(features_dir))):\n",
    "    for feature_path in tqdm(sorted(glob.glob(os.path.join(features_dir, data_part) +'/*.npy'))):\n",
    "        feats = np.load(feature_path)\n",
    "        feats = feats.astype(np.float32).tolist()\n",
    "        # ids = [i for i in range(len(feats))]\n",
    "        insert_result = collection.insert(feats)\n",
    "        # Retrieve the automatically generated IDs\n",
    "        generated_ids = insert_result.primary_keys\n",
    "        # print(\"Generated IDs:\", generated_ids)\n",
    "\n",
    "# Flush to make sure data is persisted\n",
    "collection.flush()\n",
    "\n",
    "# 4.1. Set up the index parameters\n",
    "index_params =  {\n",
    "    # field_name=\"vector\",\n",
    "    \"metric_type\":\"COSINE\",\n",
    "    \"index_type\":\"IVF_FLAT\",\n",
    "    \"params\" : { \"nlist\": 128 }\n",
    "}\n",
    "\n",
    "# 4.2. Create the index on the \"embedding\" field\n",
    "collection.create_index(\"embedding\", index_params)\n",
    "\n",
    "# Load the collection into memory\n",
    "collection.load()\n",
    "\n"
   ]
  },
  {
   "cell_type": "code",
   "execution_count": 2,
   "id": "737f2dfe",
   "metadata": {},
   "outputs": [
    {
     "name": "stdout",
     "output_type": "stream",
     "text": [
      "768\n"
     ]
    },
    {
     "name": "stderr",
     "output_type": "stream",
     "text": [
      "Inserting data: 100%|██████████| 17135/17135 [09:24<00:00, 30.34it/s]\n"
     ]
    },
    {
     "name": "stdout",
     "output_type": "stream",
     "text": [
      "['id: 1519346, distance: 0.12350457906723022, entity: {}', 'id: 1496630, distance: 0.11723673343658447, entity: {}', 'id: 1519347, distance: 0.11685427278280258, entity: {}']\n"
     ]
    }
   ],
   "source": [
    "import faiss\n",
    "import numpy as np\n",
    "from pymilvus import connections, FieldSchema, CollectionSchema, DataType, Collection\n",
    "\n",
    "# Load the FAISS index from the binary file\n",
    "index = faiss.read_index(\"/mnt/data/MLOps/VN_Multi_User_Video_Search/dict/faiss_clip.bin\")\n",
    "\n",
    "# Extract vectors and IDs from the FAISS index\n",
    "vectors = index.reconstruct_n(0, index.ntotal)\n",
    "ids = np.arange(index.ntotal)\n",
    "\n",
    "# Validate the data\n",
    "assert vectors.shape[0] == ids.shape[0], \"Number of vectors and IDs must match\"\n",
    "assert vectors.dtype == np.float32, \"Vectors must be of type float32\"\n",
    "assert ids.dtype == np.int64, \"IDs must be of type int64\"\n",
    "\n",
    "print(vectors.shape[1])\n",
    "# Connect to Milvus\n",
    "connections.connect(\"default\", host=\"localhost\", port=\"19530\")\n",
    "\n",
    "# Drop the existing collection\n",
    "collection_name = \"clip\"\n",
    "existing_collection = Collection(collection_name)\n",
    "existing_collection.drop()\n",
    "\n",
    "# Define the schema for the collection\n",
    "fields = [\n",
    "    FieldSchema(name=\"id\", dtype=DataType.INT64, is_primary=True, auto_id=False),\n",
    "    FieldSchema(name=\"vector\", dtype=DataType.FLOAT_VECTOR, dim=vectors.shape[1])\n",
    "]\n",
    "schema = CollectionSchema(fields, collection_name)\n",
    "\n",
    "# Create a collection\n",
    "collection = Collection(collection_name, schema)\n",
    "\n",
    "# Insert vectors into the collection\n",
    "data = [\n",
    "    ids.tolist(),  # id field\n",
    "    vectors.tolist()  # vector field\n",
    "]\n",
    "\n",
    "\n",
    "# Insert data in batches with progress tracking\n",
    "batch_size = 100\n",
    "num_vectors = vectors.shape[0]\n",
    "for i in tqdm(range(0, num_vectors, batch_size), desc=\"Inserting data\"):\n",
    "    batch_vectors = vectors[i:i + batch_size].tolist()\n",
    "    batch_ids = ids[i:i + batch_size].tolist()\n",
    "    data_batch = [\n",
    "        batch_ids,  # id field\n",
    "        batch_vectors  # vector field\n",
    "    ]\n",
    "    collection.insert(data_batch)\n",
    "\n",
    "\n",
    "# collection.insert(data)\n",
    "\n",
    "# Create an index on the vector field\n",
    "index_params = {\n",
    "    \"index_type\": \"IVF_FLAT\",\n",
    "    \"metric_type\": \"COSINE\",\n",
    "    \"params\": {\"nlist\": 128}\n",
    "}\n",
    "collection.create_index(\"vector\", index_params)\n",
    "\n",
    "# Load the collection into memory\n",
    "collection.load()\n",
    "\n",
    "# Perform a basic search to verify\n",
    "query_vectors = np.random.random([1, vectors.shape[1]]).tolist()\n",
    "search_params = {\"metric_type\": \"COSINE\", \"params\": {\"nprobe\": 10}}\n",
    "results = collection.search(query_vectors, \"vector\", search_params, limit=3)\n",
    "\n",
    "# Print the search results\n",
    "for result in results:\n",
    "    print(result)"
   ]
  },
  {
   "cell_type": "code",
   "execution_count": 4,
   "id": "2398b4a6",
   "metadata": {},
   "outputs": [
    {
     "name": "stdout",
     "output_type": "stream",
     "text": [
      "['id: 1009146, distance: 0.0900886133313179, entity: {}', 'id: 938028, distance: 0.08985694497823715, entity: {}', 'id: 1009147, distance: 0.08466795086860657, entity: {}']\n"
     ]
    }
   ],
   "source": [
    "from pymilvus import Collection,connections\n",
    "import numpy as np\n",
    "# Connect to Milvus\n",
    "connections.connect(\"default\", host=\"localhost\", port=\"19530\")\n",
    "# Drop the existing collection\n",
    "collection_name = \"clipv2\"\n",
    "# Create a collection\n",
    "collection = Collection(collection_name)\n",
    "# Load the collection into memory\n",
    "collection.load()\n",
    "# Perform a basic search to verify\n",
    "query_vectors = np.random.random([1, 768]).tolist()\n",
    "search_params = {\"metric_type\": \"COSINE\", \"params\": {\"nprobe\": 10}}\n",
    "results = collection.search(query_vectors, \"vector\", search_params, limit=3)\n",
    "\n",
    "# Print the search results\n",
    "for result in results:\n",
    "    print(result)"
   ]
  },
  {
   "cell_type": "code",
   "execution_count": null,
   "id": "13e1ceb9",
   "metadata": {},
   "outputs": [],
   "source": []
  },
  {
   "cell_type": "code",
   "execution_count": null,
   "id": "af75473f",
   "metadata": {},
   "outputs": [],
   "source": []
  },
  {
   "cell_type": "code",
   "execution_count": null,
   "id": "2f9f995b",
   "metadata": {},
   "outputs": [],
   "source": []
  }
 ],
 "metadata": {
  "kernelspec": {
   "display_name": ".venv",
   "language": "python",
   "name": "python3"
  },
  "language_info": {
   "codemirror_mode": {
    "name": "ipython",
    "version": 3
   },
   "file_extension": ".py",
   "mimetype": "text/x-python",
   "name": "python",
   "nbconvert_exporter": "python",
   "pygments_lexer": "ipython3",
   "version": "3.11.2"
  },
  "papermill": {
   "default_parameters": {},
   "duration": 70.78005,
   "end_time": "2023-10-03T14:50:24.873190",
   "environment_variables": {},
   "exception": null,
   "input_path": "__notebook__.ipynb",
   "output_path": "__notebook__.ipynb",
   "parameters": {},
   "start_time": "2023-10-03T14:49:14.093140",
   "version": "2.4.0"
  }
 },
 "nbformat": 4,
 "nbformat_minor": 5
}
